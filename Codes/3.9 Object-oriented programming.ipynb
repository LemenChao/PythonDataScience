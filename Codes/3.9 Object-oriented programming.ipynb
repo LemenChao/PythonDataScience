{
 "cells": [
  {
   "cell_type": "markdown",
   "metadata": {},
   "source": [
    "# 3.9 Object-oriented programming"
   ]
  },
  {
   "cell_type": "markdown",
   "metadata": {},
   "source": [
    "## 3.9.1 Classes"
   ]
  },
  {
   "cell_type": "code",
   "execution_count": 1,
   "metadata": {},
   "outputs": [
    {
     "name": "stdout",
     "output_type": "stream",
     "text": [
      "Tom\n"
     ]
    }
   ],
   "source": [
    "class Person:\n",
    "    nationality = 'China' \n",
    "    _deposit=10e10  \n",
    "    __gender=\"M\" \n",
    "    \n",
    "    def __init__(self, name, age):\n",
    "        self.name = name \n",
    "        age = age \n",
    "    \n",
    "    def say_hi(self):\n",
    "        print(self.name)\n",
    "\n",
    "p1 = Person('Tom', 30)\n",
    "p1.say_hi()"
   ]
  },
  {
   "cell_type": "markdown",
   "metadata": {},
   "source": [
    "# 3.9.2 Methods"
   ]
  },
  {
   "cell_type": "code",
   "execution_count": 2,
   "metadata": {
    "scrolled": true
   },
   "outputs": [
    {
     "name": "stdout",
     "output_type": "stream",
     "text": [
      "Tom\n"
     ]
    }
   ],
   "source": [
    "class Person:\n",
    "    \"\"\"\n",
    "      Here is the docString of class Person\n",
    "      \n",
    "    \"\"\"\n",
    "    nationality = 'China' \n",
    "    _deposit=10e10\n",
    "    __gender=\"M\"\n",
    "    \n",
    "    \n",
    "    def __init__(self, name, age):   \n",
    "        age = age \n",
    "        self.name = name \n",
    "    \n",
    "    def say_hi(self):\n",
    "        print(self.name)\n",
    "\n",
    "    @classmethod\n",
    "    def class_func(cls):\n",
    "        cls.nationality = 'CHINA'\n",
    "        print('I live in {0}'.format(cls.nationality))\n",
    "\n",
    "    @staticmethod\n",
    "    def static_func(x, y):\n",
    "        print(x+y)\n",
    "        \n",
    "p1 = Person('Tom', 20)\n",
    "p1.say_hi()"
   ]
  },
  {
   "cell_type": "code",
   "execution_count": 3,
   "metadata": {
    "scrolled": true
   },
   "outputs": [
    {
     "name": "stdout",
     "output_type": "stream",
     "text": [
      "500\n"
     ]
    }
   ],
   "source": [
    "Person.static_func(200,300) "
   ]
  },
  {
   "cell_type": "code",
   "execution_count": 4,
   "metadata": {},
   "outputs": [
    {
     "name": "stdout",
     "output_type": "stream",
     "text": [
      "500\n"
     ]
    }
   ],
   "source": [
    "p1.static_func(200,300) "
   ]
  },
  {
   "cell_type": "code",
   "execution_count": 5,
   "metadata": {
    "scrolled": true
   },
   "outputs": [
    {
     "name": "stdout",
     "output_type": "stream",
     "text": [
      "I live in CHINA\n"
     ]
    }
   ],
   "source": [
    "Person.class_func() "
   ]
  },
  {
   "cell_type": "code",
   "execution_count": 6,
   "metadata": {},
   "outputs": [
    {
     "name": "stdout",
     "output_type": "stream",
     "text": [
      "I live in CHINA\n"
     ]
    }
   ],
   "source": [
    "p1.class_func()  "
   ]
  },
  {
   "cell_type": "markdown",
   "metadata": {},
   "source": [
    "# 3.9.3 Inheritance"
   ]
  },
  {
   "cell_type": "code",
   "execution_count": 7,
   "metadata": {},
   "outputs": [],
   "source": [
    "class Teacher(Person):\n",
    "    pass\n",
    "\n",
    "t1=Teacher(\"zhang\",20)"
   ]
  },
  {
   "cell_type": "code",
   "execution_count": 8,
   "metadata": {},
   "outputs": [
    {
     "name": "stdout",
     "output_type": "stream",
     "text": [
      "I live in CHINA\n"
     ]
    }
   ],
   "source": [
    "Person.class_func()"
   ]
  },
  {
   "cell_type": "code",
   "execution_count": 9,
   "metadata": {
    "scrolled": true
   },
   "outputs": [
    {
     "name": "stdout",
     "output_type": "stream",
     "text": [
      "I live in CHINA\n"
     ]
    }
   ],
   "source": [
    "t1.class_func()        "
   ]
  },
  {
   "cell_type": "code",
   "execution_count": 10,
   "metadata": {},
   "outputs": [
    {
     "name": "stdout",
     "output_type": "stream",
     "text": [
      "11\n"
     ]
    }
   ],
   "source": [
    "t1.static_func(1,10)"
   ]
  },
  {
   "cell_type": "code",
   "execution_count": 11,
   "metadata": {
    "scrolled": true
   },
   "outputs": [
    {
     "name": "stdout",
     "output_type": "stream",
     "text": [
      "12\n"
     ]
    }
   ],
   "source": [
    "Person.static_func(2,10)"
   ]
  },
  {
   "cell_type": "code",
   "execution_count": 12,
   "metadata": {},
   "outputs": [
    {
     "data": {
      "text/plain": [
       "100000000000.0"
      ]
     },
     "execution_count": 12,
     "metadata": {},
     "output_type": "execute_result"
    }
   ],
   "source": [
    "t1._deposit"
   ]
  },
  {
   "cell_type": "code",
   "execution_count": 13,
   "metadata": {},
   "outputs": [
    {
     "ename": "AttributeError",
     "evalue": "'Teacher' object has no attribute '__gender'",
     "output_type": "error",
     "traceback": [
      "\u001b[0;31m---------------------------------------------------------------------------\u001b[0m",
      "\u001b[0;31mAttributeError\u001b[0m                            Traceback (most recent call last)",
      "\u001b[0;32m<ipython-input-13-fa74885bd2a0>\u001b[0m in \u001b[0;36m<module>\u001b[0;34m\u001b[0m\n\u001b[0;32m----> 1\u001b[0;31m \u001b[0mt1\u001b[0m\u001b[0;34m.\u001b[0m\u001b[0m__gender\u001b[0m\u001b[0;34m\u001b[0m\u001b[0;34m\u001b[0m\u001b[0m\n\u001b[0m",
      "\u001b[0;31mAttributeError\u001b[0m: 'Teacher' object has no attribute '__gender'"
     ]
    }
   ],
   "source": [
    "t1.__gender "
   ]
  },
  {
   "cell_type": "code",
   "execution_count": 14,
   "metadata": {},
   "outputs": [],
   "source": [
    "Person?\n",
    "Teacher?"
   ]
  },
  {
   "cell_type": "code",
   "execution_count": 15,
   "metadata": {
    "scrolled": true
   },
   "outputs": [
    {
     "data": {
      "text/plain": [
       "'Person'"
      ]
     },
     "execution_count": 15,
     "metadata": {},
     "output_type": "execute_result"
    }
   ],
   "source": [
    "Person.__name__"
   ]
  },
  {
   "cell_type": "markdown",
   "metadata": {},
   "source": [
    "## 3.9.4 Attributes"
   ]
  },
  {
   "cell_type": "code",
   "execution_count": 16,
   "metadata": {},
   "outputs": [
    {
     "name": "stdout",
     "output_type": "stream",
     "text": [
      "Zhang\n"
     ]
    }
   ],
   "source": [
    "class Student:\n",
    "    __name=\"Zhang\"\n",
    "    age=18\n",
    "    @property\n",
    "    def get_name(self):\n",
    "        print(self.__name) \n",
    "      \n",
    "stdnt1=Student()  \n",
    "   \n",
    "stdnt1.get_name"
   ]
  },
  {
   "cell_type": "markdown",
   "metadata": {},
   "source": [
    "# 3.9.5 Self and Cls"
   ]
  },
  {
   "cell_type": "code",
   "execution_count": 17,
   "metadata": {},
   "outputs": [
    {
     "data": {
      "text/plain": [
       "('song', 30, 'zhang', 20)"
      ]
     },
     "execution_count": 17,
     "metadata": {},
     "output_type": "execute_result"
    }
   ],
   "source": [
    "class Student:\n",
    "    age=0\n",
    "    name=\"z\"\n",
    "    def __init__(self):         \n",
    "        self.name=\"zhang\" \n",
    "        age=10 \n",
    "\n",
    "s1=Student()\n",
    "s2=Student()\n",
    "s1.name=\"song\"\n",
    "s1.age=30\n",
    "Student.age=20 \n",
    "Student.name=\"li\" \n",
    "s1.name, s1.age,s2.name, s2.age"
   ]
  },
  {
   "cell_type": "markdown",
   "metadata": {},
   "source": [
    "## 3.9.6 \\_\\_new\\_\\_() and \\_\\_init\\_\\_()"
   ]
  },
  {
   "cell_type": "code",
   "execution_count": 18,
   "metadata": {},
   "outputs": [
    {
     "name": "stdout",
     "output_type": "stream",
     "text": [
      "__new__() is called\n"
     ]
    }
   ],
   "source": [
    "class Student:\n",
    "    name=\"wang\"\n",
    "    __age=16\n",
    "    \n",
    "    def __new__(cls,name,age): \n",
    "        print('__new__() is called')\n",
    "\n",
    "    def __init__(self,name,age):  \n",
    "        print( '__init__() is called')\n",
    "        self.name = name\n",
    "        self.age = age\n",
    "    def sayHi(self):\n",
    "        print(self.name,self.age)\n",
    "        \n",
    "s1= Student(\"zhang\", 18)"
   ]
  },
  {
   "cell_type": "code",
   "execution_count": 19,
   "metadata": {},
   "outputs": [
    {
     "name": "stdout",
     "output_type": "stream",
     "text": [
      "None\n"
     ]
    }
   ],
   "source": [
    "print(s1) "
   ]
  },
  {
   "cell_type": "code",
   "execution_count": 20,
   "metadata": {},
   "outputs": [
    {
     "ename": "AttributeError",
     "evalue": "'NoneType' object has no attribute 'sayHi'",
     "output_type": "error",
     "traceback": [
      "\u001b[0;31m---------------------------------------------------------------------------\u001b[0m",
      "\u001b[0;31mAttributeError\u001b[0m                            Traceback (most recent call last)",
      "\u001b[0;32m<ipython-input-20-d8b83b6e11de>\u001b[0m in \u001b[0;36m<module>\u001b[0;34m\u001b[0m\n\u001b[0;32m----> 1\u001b[0;31m \u001b[0ms1\u001b[0m\u001b[0;34m.\u001b[0m\u001b[0msayHi\u001b[0m\u001b[0;34m(\u001b[0m\u001b[0;34m)\u001b[0m\u001b[0;34m\u001b[0m\u001b[0;34m\u001b[0m\u001b[0m\n\u001b[0m",
      "\u001b[0;31mAttributeError\u001b[0m: 'NoneType' object has no attribute 'sayHi'"
     ]
    }
   ],
   "source": [
    "s1.sayHi() "
   ]
  },
  {
   "cell_type": "code",
   "execution_count": 21,
   "metadata": {},
   "outputs": [
    {
     "name": "stdout",
     "output_type": "stream",
     "text": [
      "__new__() is called\n",
      "__init__() is called\n",
      "zhang 18\n"
     ]
    }
   ],
   "source": [
    "class Student:\n",
    "    name=\"wang\"\n",
    "    __age=16\n",
    "    \n",
    "    def __new__(cls,*args, **kwargs):\n",
    "        print('__new__() is called')\n",
    "        return object.__new__(cls)  \n",
    "\n",
    "    def __init__(self,name,age):\n",
    "        print( '__init__() is called')\n",
    "        self.name = name\n",
    "        self.age = age\n",
    "        \n",
    "    def sayHi(self):\n",
    "        print(self.name,self.age)\n",
    "        \n",
    "s1= Student(\"zhang\", 18)\n",
    "s1.sayHi()"
   ]
  }
 ],
 "metadata": {
  "anaconda-cloud": {},
  "kernelspec": {
   "display_name": "Python 3",
   "language": "python",
   "name": "python3"
  },
  "language_info": {
   "codemirror_mode": {
    "name": "ipython",
    "version": 3
   },
   "file_extension": ".py",
   "mimetype": "text/x-python",
   "name": "python",
   "nbconvert_exporter": "python",
   "pygments_lexer": "ipython3",
   "version": "3.8.3"
  }
 },
 "nbformat": 4,
 "nbformat_minor": 2
}
